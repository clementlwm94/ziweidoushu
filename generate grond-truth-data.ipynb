{
 "cells": [
  {
   "cell_type": "code",
   "execution_count": 1,
   "id": "0f122d6f",
   "metadata": {},
   "outputs": [
    {
     "name": "stderr",
     "output_type": "stream",
     "text": [
      "/home/mameuio/zhiweidoushu/.venv/lib/python3.10/site-packages/tqdm/auto.py:21: TqdmWarning: IProgress not found. Please update jupyter and ipywidgets. See https://ipywidgets.readthedocs.io/en/stable/user_install.html\n",
      "  from .autonotebook import tqdm as notebook_tqdm\n"
     ]
    },
    {
     "data": {
      "text/plain": [
       "True"
      ]
     },
     "execution_count": 1,
     "metadata": {},
     "output_type": "execute_result"
    }
   ],
   "source": [
    "from dotenv import load_dotenv\n",
    "from langchain_openai import ChatOpenAI\n",
    "# 环境与向量检索配置\n",
    "load_dotenv()"
   ]
  },
  {
   "cell_type": "code",
   "execution_count": 14,
   "id": "2583bea7",
   "metadata": {},
   "outputs": [],
   "source": [
    "# LLM 与提示模板\n",
    "from openai import OpenAI\n",
    "client = OpenAI()\n",
    "\n",
    "generate_query_prompt_tmp = \"\"\"\n",
    "角色: 你是一个专业的紫微斗数问题生成器，用于 RAG(检索增强生成)。\n",
    "目标: 针对输入的紫微斗数中文文本段，生成若干高质量、可用于检索的提问，提炼该段的核心宫位、星曜组合及格局，并按相关性排序。\n",
    "约束:\n",
    "- 仅依赖文本中的信息，不要杜撰未出现的宫位、主星、辅星、煞星或格局。\n",
    "- 若文本涉及四化（禄、权、科、忌），至少生成一条涉及四化的提问；如未涉及，不必强加。\n",
    "- 使用标准中文术语，短语之间用空格分隔；每条问题精炼但信息完整；生成 5 条，按相关性从高到低排序。\n",
    "- 仅输出 JSON 字符串数组，不含解释、标题或代码块标记。\n",
    "步骤:\n",
    "1) 阅读文本，识别其中涉及的宫位、主星、副星、煞星、四化及三方四正关系。\n",
    "2) 根据内容设计针对性问题，涵盖核心星曜组合及其对事业、感情、健康、人际等主题的影响。\n",
    "3) 去重并按相关性降序输出问题。\n",
    "示例输出: [\"紫微破军在命宫？\", \"夫妻宫遇擎羊\"]\n",
    "输入: {text}\n",
    "输出: [\"Q1\",\"Q2\",\"Q3\",\"Q4\",\"Q5\"]\n",
    "\"\"\"\n",
    "def generate_questions(doc):\n",
    "    prompt = generate_query_prompt_tmp.format(**doc)\n",
    "\n",
    "    response = client.chat.completions.create(\n",
    "        model='gpt-4o-mini',\n",
    "        messages=[{\"role\": \"user\", \"content\": prompt}]\n",
    "    )\n",
    "\n",
    "    json_response = response.choices[0].message.content\n",
    "    return json_response"
   ]
  },
  {
   "cell_type": "code",
   "execution_count": 15,
   "id": "ae511d3e",
   "metadata": {},
   "outputs": [],
   "source": [
    "import os, json\n",
    "from langchain.schema import Document\n",
    "\n",
    "import hashlib\n",
    "stored_parent_docs = []\n",
    "\n",
    "for fname in os.listdir(\"./store_location\"):\n",
    "    with open(os.path.join(\"./store_location\", fname), \"r\", encoding=\"utf-8\") as f:\n",
    "        doc_tmp = json.load(f)        \n",
    "        text_tmp = str(doc_tmp.get(\"kwargs\", {}).get(\"page_content\", \"\"))\n",
    "        id_tmp =  str(doc_tmp.get('kwargs').get('metadata').get('id'))\n",
    "        saved_doc = {\"id\":id_tmp,\"text\":text_tmp}\n",
    "        stored_parent_docs.append(saved_doc)\n",
    "\n",
    "#save this documents result\n",
    "import json\n",
    "with open('documents-with-ids.json', 'wt') as f_out:\n",
    "    json.dump(stored_parent_docs, f_out, indent=2)"
   ]
  },
  {
   "cell_type": "code",
   "execution_count": 16,
   "id": "68316da3",
   "metadata": {},
   "outputs": [],
   "source": [
    "import json\n",
    "with open('documents-with-ids.json','r') as f_in:\n",
    "    docs_with_id = json.load(f_in)"
   ]
  },
  {
   "cell_type": "code",
   "execution_count": 17,
   "id": "70166a88",
   "metadata": {},
   "outputs": [
    {
     "name": "stderr",
     "output_type": "stream",
     "text": [
      "100%|██████████| 228/228 [09:48<00:00,  2.58s/it]\n"
     ]
    }
   ],
   "source": [
    "from tqdm.auto import tqdm\n",
    "results = {}\n",
    "for doc in tqdm(docs_with_id): \n",
    "    doc_id = doc['id']\n",
    "    if doc_id in results:\n",
    "        continue\n",
    "\n",
    "    questions = generate_questions(doc)\n",
    "    results[doc_id] = questions"
   ]
  },
  {
   "cell_type": "code",
   "execution_count": 18,
   "id": "415c55b4",
   "metadata": {},
   "outputs": [],
   "source": [
    "import pickle\n",
    "#save the questions\n",
    "with open('results.bin', 'wb') as f_out:\n",
    "    pickle.dump(results,f_out)"
   ]
  },
  {
   "cell_type": "code",
   "execution_count": 19,
   "id": "4e2e6a56",
   "metadata": {},
   "outputs": [],
   "source": [
    "# read the questions\n",
    "with open('results.bin', 'rb') as f_in:\n",
    "    results2 = pickle.load(f_in)"
   ]
  },
  {
   "cell_type": "code",
   "execution_count": 20,
   "id": "3522d54f",
   "metadata": {},
   "outputs": [],
   "source": [
    "parsed_result = {}\n",
    "for doc_id, json_questions in results2.items():\n",
    "    parsed_result[doc_id] = json.loads(json_questions)"
   ]
  },
  {
   "cell_type": "code",
   "execution_count": null,
   "id": "18a40f1d",
   "metadata": {},
   "outputs": [],
   "source": [
    "final_results = []\n",
    "for doc_id, questions in parsed_result.items():\n",
    "    for q in questions:\n",
    "        final_results.append((q, doc_id))\n",
    "\n"
   ]
  },
  {
   "cell_type": "code",
   "execution_count": 24,
   "id": "7e1b5d81",
   "metadata": {},
   "outputs": [],
   "source": [
    "import pandas as pd\n",
    "df = pd.DataFrame(final_results, columns=['question', 'document'])\n",
    "df.to_csv('ground-truth-data.csv', index=False)\n"
   ]
  },
  {
   "cell_type": "markdown",
   "id": "8503270f",
   "metadata": {},
   "source": [
    "# Generate Questions for QA Evaluation"
   ]
  },
  {
   "cell_type": "code",
   "execution_count": null,
   "id": "c0eafae5",
   "metadata": {},
   "outputs": [],
   "source": [
    "question_generation_prompt = \"\"\"\n",
    "你是一位熟悉紫微斗數的題目生成助手，負責為 RAG 評測建立真實諮詢情境的測試問題。\n",
    "\n",
    "【任務】\n",
    "1. 生成 30 個一般諮詢者最常問、貼近日常生活的自然語言問題。\n",
    "2. 每題都應圍繞紫微斗數命盤的實際關切點，例如感情、婚姻、事業、財運、健康、家庭、人際、子女或未來趨勢等。\n",
    "3. 問題要保持開放式、口語化，不要出現專業術語或命盤細節。\n",
    "\n",
    "【輸出格式(JSON 陣列）】\n",
    "[{\"question\": \"...\"},\n",
    "  ...\n",
    "]\n",
    "\n",
    "僅輸出 JSON,不要額外說明或標題。\n",
    "\"\"\"\n",
    "\n",
    "from openai import OpenAI\n",
    "client = OpenAI()\n",
    "\n",
    "response = client.chat.completions.create(\n",
    "    model='gpt-4o-mini',\n",
    "    messages=[{\"role\": \"user\", \"content\": question_generation_prompt}]\n",
    ") "
   ]
  },
  {
   "cell_type": "code",
   "execution_count": null,
   "id": "f663db05",
   "metadata": {},
   "outputs": [],
   "source": [
    "import random\n",
    "from datetime import date, timedelta\n",
    "import numpy as np\n",
    "def random_date():\n",
    "    start = np.datetime64(\"1980-01-01\")\n",
    "    end = np.datetime64(\"2010-12-31\")\n",
    "    span = (end - start).astype(int)\n",
    "    dates = start + np.random.randint(0, span + 1)\n",
    "    return dates"
   ]
  },
  {
   "cell_type": "code",
   "execution_count": null,
   "id": "6f39c7b4",
   "metadata": {},
   "outputs": [],
   "source": [
    "questions = json.loads(response.choices[0].message.content.strip(\"\"))\n",
    "\n",
    "for question in questions:\n",
    "    question[\"date\"] = str(random_date()) \n",
    "    question[\"gender\"] = np.random.choice([\"男\", \"女\"]).item()\n",
    "    question[\"time\"] = int(np.random.randint(0, 13))\n",
    "\n",
    "questions = pd.DataFrame(questions)\n",
    "questions.to_csv('ground_truth_forLLMjudge.csv',index=False)"
   ]
  }
 ],
 "metadata": {
  "kernelspec": {
   "display_name": "zhiweidoushu",
   "language": "python",
   "name": "python3"
  },
  "language_info": {
   "codemirror_mode": {
    "name": "ipython",
    "version": 3
   },
   "file_extension": ".py",
   "mimetype": "text/x-python",
   "name": "python",
   "nbconvert_exporter": "python",
   "pygments_lexer": "ipython3",
   "version": "3.10.17"
  }
 },
 "nbformat": 4,
 "nbformat_minor": 5
}
