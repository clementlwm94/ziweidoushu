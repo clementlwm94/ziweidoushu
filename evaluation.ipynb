{
 "cells": [
  {
   "cell_type": "code",
   "execution_count": 1,
   "id": "26b8e9cd",
   "metadata": {},
   "outputs": [
    {
     "name": "stderr",
     "output_type": "stream",
     "text": [
      "/home/mameuio/zhiweidoushu/.venv/lib/python3.10/site-packages/tqdm/auto.py:21: TqdmWarning: IProgress not found. Please update jupyter and ipywidgets. See https://ipywidgets.readthedocs.io/en/stable/user_install.html\n",
      "  from .autonotebook import tqdm as notebook_tqdm\n"
     ]
    }
   ],
   "source": [
    "from qdrant_client import QdrantClient, models\n",
    "from langchain_qdrant import QdrantVectorStore, FastEmbedSparse, RetrievalMode\n",
    "from langchain_community.embeddings.fastembed import FastEmbedEmbeddings\n",
    "from langchain_text_splitters import RecursiveCharacterTextSplitter, HTMLSectionSplitter\n",
    "from langchain.storage import LocalFileStore\n",
    "from langchain.retrievers import ParentDocumentRetriever\n",
    "from langchain.storage._lc_store import create_kv_docstore\n",
    "import pandas as pd\n",
    "from tqdm.auto import tqdm\n",
    "import json\n",
    "from qdrant_workflow import run_qdrant_rag_workflow\n",
    "import numpy as np"
   ]
  },
  {
   "cell_type": "code",
   "execution_count": 2,
   "id": "b209a642",
   "metadata": {},
   "outputs": [],
   "source": [
    "# Embedding model \n",
    "model_handle = \"jinaai/jina-embeddings-v2-base-zh\"\n",
    "embeddings = FastEmbedEmbeddings(model_name=model_handle)\n",
    "sparse_embeddings = FastEmbedSparse(model_name=\"Qdrant/BM25\")"
   ]
  },
  {
   "cell_type": "code",
   "execution_count": 3,
   "id": "f990e943",
   "metadata": {},
   "outputs": [
    {
     "name": "stderr",
     "output_type": "stream",
     "text": [
      "INFO:httpx:HTTP Request: GET http://localhost:6333 \"HTTP/1.1 200 OK\"\n"
     ]
    }
   ],
   "source": [
    "#Create vector store and doc store\n",
    "url = \"http://localhost:6333\"\n",
    "collection_name = \"zhiwei_DAG\"\n",
    "\n",
    "client = QdrantClient(url=url, prefer_grpc=True)\n",
    "vectorstore = QdrantVectorStore(\n",
    "    embedding=embeddings,\n",
    "    client=client,\n",
    "    collection_name=collection_name,\n",
    "    sparse_embedding=sparse_embeddings,\n",
    "    retrieval_mode=RetrievalMode.HYBRID\n",
    ")\n",
    "\n",
    "\n",
    "fs = LocalFileStore(\"./store_location\")\n",
    "doc_store = create_kv_docstore(fs)"
   ]
  },
  {
   "cell_type": "code",
   "execution_count": 4,
   "id": "778bf8a1",
   "metadata": {},
   "outputs": [],
   "source": [
    "# Child chunk splitter\n",
    "child_splitter = RecursiveCharacterTextSplitter(chunk_size=400)\n",
    "\n",
    "retriever = ParentDocumentRetriever(\n",
    "    vectorstore=vectorstore,\n",
    "    docstore=doc_store,\n",
    "    child_splitter=child_splitter,\n",
    "    search_kwargs={\"k\": 5},\n",
    "    id_key=\"source_id\"\n",
    ")"
   ]
  },
  {
   "cell_type": "code",
   "execution_count": 5,
   "id": "7d94b936",
   "metadata": {},
   "outputs": [],
   "source": [
    "gold_standard_dat = pd.read_csv(\"ground-truth-data.csv\")\n",
    "gold_standard = gold_standard_dat.to_dict(orient='records')"
   ]
  },
  {
   "cell_type": "code",
   "execution_count": 6,
   "id": "f0df296e",
   "metadata": {},
   "outputs": [
    {
     "name": "stderr",
     "output_type": "stream",
     "text": [
      "100%|██████████| 1140/1140 [00:36<00:00, 31.48it/s]\n"
     ]
    }
   ],
   "source": [
    "result_total = []\n",
    "for q in tqdm(gold_standard):\n",
    "    id_tmp = q['document']\n",
    "    q_tmp = q['question']\n",
    "    found_docs = retriever.invoke(q_tmp)\n",
    "    result = [d.metadata['id'] == id_tmp for d in found_docs]\n",
    "    result_total.append(result)"
   ]
  },
  {
   "cell_type": "code",
   "execution_count": 7,
   "id": "c991c242",
   "metadata": {},
   "outputs": [],
   "source": [
    "def calc_hit_rate(result_total):\n",
    "    count = 0\n",
    "\n",
    "    for result in result_total:\n",
    "        if True in result:\n",
    "            count += 1\n",
    "\n",
    "    hit_rate = count/len(result_total)\n",
    "    return hit_rate"
   ]
  },
  {
   "cell_type": "code",
   "execution_count": 8,
   "id": "4ea890d6",
   "metadata": {},
   "outputs": [],
   "source": [
    "def calc_mrr(result_total):\n",
    "    total_score = 0.0\n",
    "\n",
    "    for result in result_total:\n",
    "        for i in range(len(result)):\n",
    "            if result[i] == True:\n",
    "                total_score = total_score +  1/(i+1)\n",
    "\n",
    "    return total_score/len(result_total)"
   ]
  },
  {
   "cell_type": "code",
   "execution_count": 9,
   "id": "84b507b5",
   "metadata": {},
   "outputs": [
    {
     "name": "stdout",
     "output_type": "stream",
     "text": [
      "0.5771929824561404\n",
      "0.4469590643274848\n"
     ]
    }
   ],
   "source": [
    "print(calc_hit_rate(result_total))\n",
    "print(calc_mrr(result_total))"
   ]
  },
  {
   "cell_type": "markdown",
   "id": "b5a6de17",
   "metadata": {},
   "source": [
    "# Offline evaluation - LLM as a judge (QA)"
   ]
  },
  {
   "cell_type": "code",
   "execution_count": null,
   "id": "3128c57d",
   "metadata": {},
   "outputs": [],
   "source": [
    "questions = pd.read_csv(\"ground_truth_forLLMjudge.csv\")\n",
    "result = {}\n",
    "\n",
    "for i,row in enumerate(questions.itertuples(index=False)):\n",
    "    result_tmp  = run_qdrant_rag_workflow(\n",
    "            birth_date=row.date,\n",
    "            gender=row.gender,\n",
    "            birth_hour=row.time,\n",
    "            top_n_queries=5,\n",
    "            question=row.question,\n",
    "        )\n",
    "    result[i] = {\"question\":result_tmp['question'],\n",
    "                 \"chart\":result_tmp['user_chart'],\n",
    "                 \"queries\":result_tmp['queries'],\n",
    "                 \"answer\":result_tmp['answer']}\n",
    "    \n",
    "df = pd.DataFrame.from_dict(result, orient='index')\n",
    "df.to_csv(\"LLM_QA_generated_answers.csv\",index=False)"
   ]
  },
  {
   "cell_type": "code",
   "execution_count": null,
   "id": "ab6c5a01",
   "metadata": {},
   "outputs": [],
   "source": [
    "import json\n",
    "from openai import OpenAI\n",
    "\n",
    "client = OpenAI()\n",
    "\n",
    "SYSTEM_PROMPT = \"\"\"\n",
    "角色：你是离线评测用的紫微斗数 RAG 评审官。\n",
    "任务：仅依据“检索文段”和“命盘资料”判断助手最终回答的质量。\n",
    "评分维度(整数0-1,1为最佳):\n",
    "1. faithfulness —— 回答是否忠于命盘，不臆造星曜、格局或结论。\n",
    "2. relevance —— 回答是否紧扣用户问题，避免跑题或遗漏问点。\n",
    "请在判断后给出简短中文说明，解释评分理由。\n",
    "只输出 JSON 对象,包含键:faithfulness、relevance、explanation_faithfulness,explanation_relevance;其中 explanation 为不超过 120 字的中文说明。\n",
    "\"\"\".strip()\n",
    "\n",
    "def make_user_prompt(row):\n",
    "    return f\"\"\"\n",
    "用户问题：\n",
    "{row.question}\n",
    "\n",
    "命盘资料(JSON):\n",
    "{row.chart}\n",
    "\n",
    "助手最终回答：\n",
    "{row.answer}\n",
    "\"\"\".strip()\n",
    "\n"
   ]
  },
  {
   "cell_type": "code",
   "execution_count": 142,
   "id": "3eee712d",
   "metadata": {},
   "outputs": [],
   "source": [
    "def judge_example(row, model=\"gpt-4o-mini\"):\n",
    "    messages = [\n",
    "        {\"role\": \"system\", \"content\": SYSTEM_PROMPT},\n",
    "        {\"role\": \"user\", \"content\": make_user_prompt(row)},\n",
    "    ]\n",
    "    completion = client.chat.completions.create(\n",
    "        model=model,\n",
    "        messages=messages,\n",
    "        temperature=0,\n",
    "    )\n",
    "    content = completion.choices[0].message.content.strip()\n",
    "\n",
    "    # grab the JSON object from the reply\n",
    "    start = content.find(\"{\")\n",
    "    end = content.rfind(\"}\")\n",
    "    if start == -1 or end == -1:\n",
    "        raise ValueError(f\"Judge did not return JSON: {content}\")\n",
    "    payload = json.loads(content[start:end + 1])\n",
    "    return payload"
   ]
  },
  {
   "cell_type": "code",
   "execution_count": 162,
   "id": "099ed65e",
   "metadata": {},
   "outputs": [
    {
     "name": "stderr",
     "output_type": "stream",
     "text": [
      "INFO:httpx:HTTP Request: POST https://api.openai.com/v1/chat/completions \"HTTP/1.1 200 OK\"\n",
      "INFO:httpx:HTTP Request: POST https://api.openai.com/v1/chat/completions \"HTTP/1.1 200 OK\"\n",
      "INFO:httpx:HTTP Request: POST https://api.openai.com/v1/chat/completions \"HTTP/1.1 200 OK\"\n",
      "INFO:httpx:HTTP Request: POST https://api.openai.com/v1/chat/completions \"HTTP/1.1 200 OK\"\n",
      "INFO:httpx:HTTP Request: POST https://api.openai.com/v1/chat/completions \"HTTP/1.1 200 OK\"\n",
      "INFO:httpx:HTTP Request: POST https://api.openai.com/v1/chat/completions \"HTTP/1.1 200 OK\"\n",
      "INFO:httpx:HTTP Request: POST https://api.openai.com/v1/chat/completions \"HTTP/1.1 200 OK\"\n",
      "INFO:httpx:HTTP Request: POST https://api.openai.com/v1/chat/completions \"HTTP/1.1 200 OK\"\n",
      "INFO:httpx:HTTP Request: POST https://api.openai.com/v1/chat/completions \"HTTP/1.1 200 OK\"\n",
      "INFO:httpx:HTTP Request: POST https://api.openai.com/v1/chat/completions \"HTTP/1.1 200 OK\"\n",
      "INFO:httpx:HTTP Request: POST https://api.openai.com/v1/chat/completions \"HTTP/1.1 200 OK\"\n",
      "INFO:httpx:HTTP Request: POST https://api.openai.com/v1/chat/completions \"HTTP/1.1 200 OK\"\n",
      "INFO:httpx:HTTP Request: POST https://api.openai.com/v1/chat/completions \"HTTP/1.1 200 OK\"\n",
      "INFO:httpx:HTTP Request: POST https://api.openai.com/v1/chat/completions \"HTTP/1.1 200 OK\"\n",
      "INFO:httpx:HTTP Request: POST https://api.openai.com/v1/chat/completions \"HTTP/1.1 200 OK\"\n",
      "INFO:httpx:HTTP Request: POST https://api.openai.com/v1/chat/completions \"HTTP/1.1 200 OK\"\n",
      "INFO:httpx:HTTP Request: POST https://api.openai.com/v1/chat/completions \"HTTP/1.1 200 OK\"\n",
      "INFO:httpx:HTTP Request: POST https://api.openai.com/v1/chat/completions \"HTTP/1.1 200 OK\"\n",
      "INFO:httpx:HTTP Request: POST https://api.openai.com/v1/chat/completions \"HTTP/1.1 200 OK\"\n",
      "INFO:httpx:HTTP Request: POST https://api.openai.com/v1/chat/completions \"HTTP/1.1 200 OK\"\n",
      "INFO:httpx:HTTP Request: POST https://api.openai.com/v1/chat/completions \"HTTP/1.1 200 OK\"\n",
      "INFO:httpx:HTTP Request: POST https://api.openai.com/v1/chat/completions \"HTTP/1.1 200 OK\"\n",
      "INFO:httpx:HTTP Request: POST https://api.openai.com/v1/chat/completions \"HTTP/1.1 200 OK\"\n",
      "INFO:httpx:HTTP Request: POST https://api.openai.com/v1/chat/completions \"HTTP/1.1 200 OK\"\n",
      "INFO:httpx:HTTP Request: POST https://api.openai.com/v1/chat/completions \"HTTP/1.1 200 OK\"\n",
      "INFO:httpx:HTTP Request: POST https://api.openai.com/v1/chat/completions \"HTTP/1.1 200 OK\"\n",
      "INFO:httpx:HTTP Request: POST https://api.openai.com/v1/chat/completions \"HTTP/1.1 200 OK\"\n",
      "INFO:httpx:HTTP Request: POST https://api.openai.com/v1/chat/completions \"HTTP/1.1 200 OK\"\n",
      "INFO:httpx:HTTP Request: POST https://api.openai.com/v1/chat/completions \"HTTP/1.1 200 OK\"\n",
      "INFO:httpx:HTTP Request: POST https://api.openai.com/v1/chat/completions \"HTTP/1.1 200 OK\"\n",
      "INFO:httpx:HTTP Request: POST https://api.openai.com/v1/chat/completions \"HTTP/1.1 200 OK\"\n",
      "INFO:httpx:HTTP Request: POST https://api.openai.com/v1/chat/completions \"HTTP/1.1 200 OK\"\n",
      "INFO:httpx:HTTP Request: POST https://api.openai.com/v1/chat/completions \"HTTP/1.1 200 OK\"\n",
      "INFO:httpx:HTTP Request: POST https://api.openai.com/v1/chat/completions \"HTTP/1.1 200 OK\"\n"
     ]
    }
   ],
   "source": [
    "df = pd.read_csv('LLM_QA_generated_answers.csv')\n",
    "results = []\n",
    "for row in df.itertuples(index=False):\n",
    "    judge_result = judge_example(row)\n",
    "    results.append(judge_result)"
   ]
  },
  {
   "cell_type": "code",
   "execution_count": 176,
   "id": "ece7821a",
   "metadata": {},
   "outputs": [
    {
     "name": "stdout",
     "output_type": "stream",
     "text": [
      "failthfulness: 4.705882352941177\n",
      "relevance: 4.970588235294118\n"
     ]
    }
   ],
   "source": [
    "result_dat = pd.DataFrame(results)\n",
    "print(\"failthfulness:\",np.mean(result_dat['faithfulness']))\n",
    "print(\"relevance:\",np.mean(result_dat['relevance']))"
   ]
  }
 ],
 "metadata": {
  "kernelspec": {
   "display_name": "zhiweidoushu",
   "language": "python",
   "name": "python3"
  },
  "language_info": {
   "codemirror_mode": {
    "name": "ipython",
    "version": 3
   },
   "file_extension": ".py",
   "mimetype": "text/x-python",
   "name": "python",
   "nbconvert_exporter": "python",
   "pygments_lexer": "ipython3",
   "version": "3.10.17"
  }
 },
 "nbformat": 4,
 "nbformat_minor": 5
}
